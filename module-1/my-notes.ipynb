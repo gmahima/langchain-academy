{
 "cells": [
  {
   "attachments": {},
   "cell_type": "markdown",
   "id": "99031d04-df04-42ec-bd03-6b148f0cc492",
   "metadata": {},
   "source": [
    "# My Notes\n",
    "\n",
    " ## LangGraph vs LangChain\n",
    " 1. LangGraph is a framework for complex agentic systems\n",
    " 2. LangChain is useful for more straight-forward retrieval flows/chains. It helps by providing a standard interface to interact with models and other components\n",
    " 3. **LangGraph's framework is more low-level and controllable** than Langchain agents.\n",
    "---\n",
    "## Chains & Agent\n",
    "1. A control flow with some steps before and after an LLM Call. This control flow forms a chain.\n",
    "2. There can be multiple flows, depending on the problem to be solved. \n",
    "3. When we want the llm system to choose a control flow, depending on the problem it faces, that's a simple definition of an **Agent**\n",
    "4. Agent ~= A control flow defined by an LLM. / **An agent is an LLM defined control flow**\n",
    "5. A normal control flow is deterministic, fixed, it is the same no matter how many times you call it. An llm defined control flow, an Agent - is not deterministic, here, the llm makes a decision.\n",
    "---\n",
    "## Level of control given to LLM \n",
    "1. Varying the level of control given to the LLM in the control flow can create different kinds of agents.   \n",
    "   1.1 Router Agent: a set of steps are followed -> LLM just decides between a narrow set of options -> Some common operations continue   \n",
    "   1.2 Fully Autonomous Agent: start -> LLM creates its own steps, chooses among the sets of steps and then it ends.\n",
    "2. Here, as the control to LLM increases, the reliability decreases.\n",
    "3. LangGraph helps you increase the reliability of the agent, even at high levels of control to the LLM\n",
    "---\n",
    "> Langchain goes really well with Langgraph, but you don't need to use Langchain's components if you don't want to, with LangGraph"
   ]
  }
 ],
 "metadata": {
  "kernelspec": {
   "display_name": "Python 3 (ipykernel)",
   "language": "python",
   "name": "python3"
  },
  "language_info": {
   "codemirror_mode": {
    "name": "ipython",
    "version": 3
   },
   "file_extension": ".py",
   "mimetype": "text/x-python",
   "name": "python",
   "nbconvert_exporter": "python",
   "pygments_lexer": "ipython3",
   "version": "3.13.3"
  }
 },
 "nbformat": 4,
 "nbformat_minor": 5
}
