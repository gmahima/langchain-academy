{
 "cells": [
  {
   "cell_type": "code",
   "execution_count": 1,
   "id": "37bc63b9-7718-4c0f-be36-dd4d0cce3d77",
   "metadata": {},
   "outputs": [],
   "source": [
    "%%capture --no-stderr\n",
    "%pip install --quiet -U langchain_openai langchain_core langgraph"
   ]
  },
  {
   "cell_type": "code",
   "execution_count": 3,
   "id": "72d5a70d-fe39-4812-bae2-724812ea0d41",
   "metadata": {},
   "outputs": [
    {
     "name": "stdout",
     "output_type": "stream",
     "text": [
      "Model : So you were researching on ocean mammals?\n",
      "User : Yes, I was researching on ocean mammals\n",
      "Model : I see, how can I help you?\n",
      "User : Can whales understand human language?\n"
     ]
    }
   ],
   "source": [
    "from pprint import pprint\n",
    "from langchain_core.messages import AIMessage, HumanMessage\n",
    "messages = [AIMessage(content=\"So you were researching on ocean mammals?\", name=\"Model\")]\n",
    "messages.append(HumanMessage(content=\"Yes, I was researching on ocean mammals\", name=\"User\"))\n",
    "messages.append(AIMessage(content=\"I see, how can I help you?\", name=\"Model\"))\n",
    "messages.append(HumanMessage(content=\"Can whales understand human language?\", name=\"User\"))\n",
    "\n",
    "for message in messages:\n",
    "    print(message.name, \":\", message.content)"
   ]
  },
  {
   "cell_type": "markdown",
   "id": "cc07d91e-d7a9-4c3e-93be-b5e2bf20ea9f",
   "metadata": {},
   "source": [
    "## Adding a chat model"
   ]
  },
  {
   "cell_type": "code",
   "execution_count": 6,
   "id": "0486f767",
   "metadata": {},
   "outputs": [
    {
     "data": {
      "text/plain": [
       "AIMessage(content='Whales do not understand human language in the way that humans do. While some species of whales, such as dolphins—which are also cetaceans—can learn to respond to certain commands and cues from trainers, this is not the same as understanding human language. \\n\\nWhales communicate using a complex system of sounds and vocalizations that they use to socialize, navigate, and hunt. Research has shown that some whale species can recognize distinct calls and adjust their behavior based on these sounds, suggesting a form of social communication that is advanced in its own right. However, they do not comprehend language in the human sense, which involves grammar, syntax, and abstract concepts.\\n\\nOngoing research continues to explore the cognitive abilities of whales and other cetaceans, so our understanding of their communication and intelligence may evolve over time.', additional_kwargs={'refusal': None}, response_metadata={'token_usage': {'completion_tokens': 162, 'prompt_tokens': 58, 'total_tokens': 220, 'completion_tokens_details': {'accepted_prediction_tokens': 0, 'audio_tokens': 0, 'reasoning_tokens': 0, 'rejected_prediction_tokens': 0}, 'prompt_tokens_details': {'audio_tokens': 0, 'cached_tokens': 0}}, 'model_name': 'gpt-4o-mini-2024-07-18', 'system_fingerprint': 'fp_560af6e559', 'id': 'chatcmpl-C6JvhHpvjF00AGCunLjUWQKW9i4sm', 'service_tier': 'default', 'finish_reason': 'stop', 'logprobs': None}, id='run--daf38662-4a5f-4143-bc7d-d40cf0b0038b-0', usage_metadata={'input_tokens': 58, 'output_tokens': 162, 'total_tokens': 220, 'input_token_details': {'audio': 0, 'cache_read': 0}, 'output_token_details': {'audio': 0, 'reasoning': 0}})"
      ]
     },
     "execution_count": 6,
     "metadata": {},
     "output_type": "execute_result"
    }
   ],
   "source": [
    "import os, getpass\n",
    "from langchain_openai import ChatOpenAI\n",
    "\n",
    "def _set_env(var: str):\n",
    "    if not os.environ.get(var):\n",
    "        os.environ[var] = getpass.getpass(f\"{var}: \")\n",
    "\n",
    "_set_env(\"OPENAI_API_KEY\")\n",
    "chat_model = ChatOpenAI(model=\"gpt-4o-mini\")\n",
    "\n",
    "result = chat_model.invoke(messages)\n",
    "type(result)\n",
    "result"
   ]
  },
  {
   "cell_type": "markdown",
   "id": "1c6cfd04",
   "metadata": {},
   "source": [
    "As you can see, `invoke` returns the AI response message only, not the full list of messages. "
   ]
  },
  {
   "cell_type": "markdown",
   "id": "ebf9ba74",
   "metadata": {},
   "source": [
    "## Adding a tool"
   ]
  },
  {
   "cell_type": "code",
   "execution_count": 7,
   "id": "2eeac28e",
   "metadata": {},
   "outputs": [],
   "source": [
    "def multiply(a: int, b: int) -> int:\n",
    "    \"\"\"Multiply two integers and return the result.\"\"\"\n",
    "    return a * b\n",
    "chat_model_with_tools = chat_model.bind_tools([multiply])"
   ]
  },
  {
   "cell_type": "code",
   "execution_count": 8,
   "id": "512bc25a",
   "metadata": {},
   "outputs": [],
   "source": [
    "tool_call = chat_model_with_tools.invoke([HumanMessage(content=f\"What is 2 multiplied by 3\")])"
   ]
  },
  {
   "cell_type": "code",
   "execution_count": 9,
   "id": "2a770cee",
   "metadata": {},
   "outputs": [
    {
     "data": {
      "text/plain": [
       "AIMessage(content='', additional_kwargs={'tool_calls': [{'id': 'call_EYtUr6twEN9xbO2OJkrorFE7', 'function': {'arguments': '{\"a\":2,\"b\":3}', 'name': 'multiply'}, 'type': 'function'}], 'refusal': None}, response_metadata={'token_usage': {'completion_tokens': 17, 'prompt_tokens': 56, 'total_tokens': 73, 'completion_tokens_details': {'accepted_prediction_tokens': 0, 'audio_tokens': 0, 'reasoning_tokens': 0, 'rejected_prediction_tokens': 0}, 'prompt_tokens_details': {'audio_tokens': 0, 'cached_tokens': 0}}, 'model_name': 'gpt-4o-mini-2024-07-18', 'system_fingerprint': 'fp_62a23a81ef', 'id': 'chatcmpl-C6JzcMJH5jN2cqNMUZqn3Jfiemdso', 'service_tier': 'default', 'finish_reason': 'tool_calls', 'logprobs': None}, id='run--bf3b824f-b083-4355-890e-f376d64e2da9-0', tool_calls=[{'name': 'multiply', 'args': {'a': 2, 'b': 3}, 'id': 'call_EYtUr6twEN9xbO2OJkrorFE7', 'type': 'tool_call'}], usage_metadata={'input_tokens': 56, 'output_tokens': 17, 'total_tokens': 73, 'input_token_details': {'audio': 0, 'cache_read': 0}, 'output_token_details': {'audio': 0, 'reasoning': 0}})"
      ]
     },
     "execution_count": 9,
     "metadata": {},
     "output_type": "execute_result"
    }
   ],
   "source": [
    "tool_call"
   ]
  },
  {
   "cell_type": "code",
   "execution_count": 10,
   "id": "0df13aab",
   "metadata": {},
   "outputs": [],
   "source": [
    "from typing_extensions import TypedDict\n",
    "from langchain_core.messages import AnyMessage\n",
    "\n",
    "class MessagesList(TypedDict):\n",
    "    messages: list[AnyMessage]"
   ]
  },
  {
   "cell_type": "markdown",
   "id": "98f5f541",
   "metadata": {},
   "source": [
    "## Adding a Reducer - Example"
   ]
  },
  {
   "cell_type": "code",
   "execution_count": 13,
   "id": "874001a8",
   "metadata": {},
   "outputs": [
    {
     "data": {
      "text/plain": [
       "{'num': 2, 'arr': ['bye']}"
      ]
     },
     "execution_count": 13,
     "metadata": {},
     "output_type": "execute_result"
    }
   ],
   "source": [
    "from typing_extensions import TypedDict\n",
    "from IPython.display import Image, display\n",
    "from langgraph.graph import StateGraph, START, END\n",
    "class State(TypedDict):\n",
    "    num: int\n",
    "    arr: list[str]\n",
    "\n",
    "def node_1(state: State) -> State:\n",
    "    return {\"num\": 2}\n",
    "def node_2(state: State) -> State:\n",
    "    return {\"arr\": [\"bye\"]}\n",
    "\n",
    "graph = StateGraph(State)\n",
    "graph.add_node(\"node_1\", node_1)\n",
    "graph.add_node(\"node_2\", node_2)\n",
    "graph.add_edge(START, \"node_1\")\n",
    "graph.add_edge(\"node_1\", \"node_2\")\n",
    "graph.add_edge(\"node_2\", END)\n",
    "\n",
    "compiled_graph = graph.compile()\n",
    "compiled_graph.invoke({\"num\": 1, \"arr\": [\"hi\"]})\n",
    "\n",
    "\n"
   ]
  },
  {
   "cell_type": "code",
   "execution_count": 14,
   "id": "a78cda6d",
   "metadata": {},
   "outputs": [
    {
     "data": {
      "text/plain": [
       "{'num': 2, 'arr': ['hi', 'bye']}"
      ]
     },
     "execution_count": 14,
     "metadata": {},
     "output_type": "execute_result"
    }
   ],
   "source": [
    "from typing_extensions import TypedDict\n",
    "from typing import Annotated\n",
    "from operator import add\n",
    "from IPython.display import Image, display\n",
    "from langgraph.graph import StateGraph, START, END\n",
    "class State(TypedDict):\n",
    "    num: int\n",
    "    arr: Annotated[list[str], add] ## Annotated[type, reducer]\n",
    "\n",
    "def node_1(state: State) -> State:\n",
    "    return {\"num\": 2}\n",
    "def node_2(state: State) -> State:\n",
    "    return {\"arr\": [\"bye\"]}\n",
    "\n",
    "graph = StateGraph(State)\n",
    "graph.add_node(\"node_1\", node_1)\n",
    "graph.add_node(\"node_2\", node_2)\n",
    "graph.add_edge(START, \"node_1\")\n",
    "graph.add_edge(\"node_1\", \"node_2\")\n",
    "graph.add_edge(\"node_2\", END)\n",
    "\n",
    "compiled_graph = graph.compile()\n",
    "compiled_graph.invoke({\"num\": 1, \"arr\": [\"hi\"]})"
   ]
  },
  {
   "cell_type": "markdown",
   "id": "8512e59e",
   "metadata": {},
   "source": [
    "## Perplexity says: \n",
    "Here's the breakdown:\n",
    "\n",
    "The use of Annotated[list[str], add] for the arr field attaches the add reducer to that field as type metadata.\n",
    "\n",
    "When you create the StateGraph with your custom State TypedDict, LangGraph inspects these annotations.\n",
    "\n",
    "LangGraph internally checks: if a field is annotated with Annotated[..., reducer], it uses that reducer function (here, add) to combine the field’s new state with its previous value.\n",
    "\n",
    "For lists and operator.add, this means concatenation (appending).\n",
    "\n",
    "If no reducer is specified, updates default to overwriting the previous value instead.\n",
    "\n",
    "You do not implement this logic yourself.\n",
    "LangGraph's StateGraph reads that Annotated type hint at graph construction time (via Python type introspection), and wires up the reducer logic accordingly for state updates.\n",
    "> TL;DR: The presence of add in the annotation tells LangGraph specifically for the arr key to combine values using operator.add (list concatenation). LangGraph's internal code is what makes this happen—Annotated is just how you tell it what to do."
   ]
  },
  {
   "cell_type": "markdown",
   "id": "80f23285",
   "metadata": {},
   "source": [
    "## Create the state graph with the llm"
   ]
  },
  {
   "cell_type": "markdown",
   "id": "c5567432",
   "metadata": {},
   "source": []
  },
  {
   "cell_type": "code",
   "execution_count": 15,
   "id": "9cb91b09",
   "metadata": {},
   "outputs": [],
   "source": [
    "from langgraph.graph import MessagesState\n",
    "\n",
    "class MessagesState(MessagesState):\n",
    "    pass"
   ]
  },
  {
   "cell_type": "markdown",
   "id": "0172b975",
   "metadata": {},
   "source": [
    "## What does this mean? \n",
    "Having a messages state is very common. So, LangGraph has a default template for the state graphs which has a `messages` state, along with an `addmessages` reducer. So, if a node returns a `message`, it is appended to the `messages` state, not replaced, automatically. No add. code needed.\n",
    "\n",
    "### `pass` keyword\n",
    "**Perplexity:** The pass keyword at the end of a class in Python is used as a placeholder that does nothing. Python requires the body of a class (or functions, loops, etc.) to have at least one statement, and pass fulfills this requirement without adding any behavior or logic.\n",
    "\n",
    "For example:\n",
    "\n",
    "```python\n",
    "class MyEmptyClass:\n",
    "    pass\n",
    "```\n",
    "This defines an empty class; no attributes or methods are on it yet.\n",
    "\n",
    "The pass statement ensures your code is syntactically valid and does not raise an error for a blank class body.\n",
    "\n",
    "You usually use pass when you're outlining your code structure and plan to add details later, or you want a placeholder for a class or function that is required syntactically but should do nothing for now.\n",
    "\n",
    "Related\n",
    "How does the pass keyword function specifically at the end of a class declaration\n",
    "Why is pass used in class definitions instead of leaving the body empty\n",
    "Can pass at the end of a class help with code scaffolding or future expansion\n",
    "How does the pass statement compare to other placeholders in class construction\n",
    "What is the effect of using pass in a class versus leaving it completely empty\n"
   ]
  },
  {
   "cell_type": "code",
   "execution_count": 17,
   "id": "e2a497a4",
   "metadata": {},
   "outputs": [
    {
     "data": {
      "image/png": "[encoded data removed]",
      "text/plain": [
       "<IPython.core.display.Image object>"
      ]
     },
     "metadata": {},
     "output_type": "display_data"
    }
   ],
   "source": [
    "from IPython.display import Image, display\n",
    "from langgraph.graph import StateGraph, START, END\n",
    "\n",
    "# LLM Node\n",
    "def tool_calling_llm(state: MessagesState): \n",
    "    return {\"messages\": chat_model_with_tools.invoke(state[\"messages\"])}\n",
    "\n",
    "# Build the graph\n",
    "builder = StateGraph(MessagesState)\n",
    "builder.add_node(\"tool_calling_llm\", tool_calling_llm)\n",
    "builder.add_edge(START, \"tool_calling_llm\")\n",
    "builder.add_edge(\"tool_calling_llm\", END)\n",
    "\n",
    "# Compile the graph\n",
    "graph = builder.compile()\n",
    "# View\n",
    "display(Image(graph.get_graph().draw_mermaid_png()))\n"
   ]
  },
  {
   "cell_type": "code",
   "execution_count": 18,
   "id": "9cde7966",
   "metadata": {},
   "outputs": [
    {
     "name": "stdout",
     "output_type": "stream",
     "text": [
      "================================\u001b[1m Human Message \u001b[0m=================================\n",
      "\n",
      "I want to talk to whales\n",
      "==================================\u001b[1m Ai Message \u001b[0m==================================\n",
      "\n",
      "Talking to whales is a fascinating idea! While we can't communicate with them in a way that humans do with each other, researchers have studied whale songs and sounds. If you're interested, we can explore topics like whale communication, species of whales, or how to listen to them in the wild. What would you like to know more about?\n"
     ]
    }
   ],
   "source": [
    "resultant_state = graph.invoke({\"messages\": HumanMessage(content = \"I want to talk to whales\")})\n",
    "\n",
    "for message in resultant_state[\"messages\"]:\n",
    "    message.pretty_print()"
   ]
  },
  {
   "cell_type": "code",
   "execution_count": 20,
   "id": "a1092f40",
   "metadata": {},
   "outputs": [
    {
     "data": {
      "text/plain": [
       "[HumanMessage(content='I want to talk to whales', additional_kwargs={}, response_metadata={}, id='5304343f-1c48-4864-86c5-a1d18b475af3'),\n",
       " AIMessage(content=\"Talking to whales is a fascinating idea! While we can't communicate with them in a way that humans do with each other, researchers have studied whale songs and sounds. If you're interested, we can explore topics like whale communication, species of whales, or how to listen to them in the wild. What would you like to know more about?\", additional_kwargs={'refusal': None}, response_metadata={'token_usage': {'completion_tokens': 68, 'prompt_tokens': 54, 'total_tokens': 122, 'completion_tokens_details': {'accepted_prediction_tokens': 0, 'audio_tokens': 0, 'reasoning_tokens': 0, 'rejected_prediction_tokens': 0}, 'prompt_tokens_details': {'audio_tokens': 0, 'cached_tokens': 0}}, 'model_name': 'gpt-4o-mini-2024-07-18', 'system_fingerprint': 'fp_62a23a81ef', 'id': 'chatcmpl-C6Kh6UdQ8avmRnVdtORl8sYqpUkts', 'service_tier': 'default', 'finish_reason': 'stop', 'logprobs': None}, id='run--00f65f46-ef21-446d-9009-b21474b4faaf-0', usage_metadata={'input_tokens': 54, 'output_tokens': 68, 'total_tokens': 122, 'input_token_details': {'audio': 0, 'cache_read': 0}, 'output_token_details': {'audio': 0, 'reasoning': 0}})]"
      ]
     },
     "execution_count": 20,
     "metadata": {},
     "output_type": "execute_result"
    }
   ],
   "source": [
    "resultant_state[\"messages\"]"
   ]
  },
  {
   "cell_type": "code",
   "execution_count": 22,
   "id": "d84b8e95",
   "metadata": {},
   "outputs": [],
   "source": [
    "multiply_result = graph.invoke({\"messages\": HumanMessage(content = \"What is 2 * 3?\")})"
   ]
  },
  {
   "cell_type": "code",
   "execution_count": 23,
   "id": "805399cc",
   "metadata": {},
   "outputs": [
    {
     "data": {
      "text/plain": [
       "{'messages': [HumanMessage(content='What is 2 * 3?', additional_kwargs={}, response_metadata={}, id='32a5795d-fac5-4fad-9fda-e168830909ad'),\n",
       "  AIMessage(content='', additional_kwargs={'tool_calls': [{'id': 'call_cbOPlnlKNOx2g8WVio2e9mgk', 'function': {'arguments': '{\"a\":2,\"b\":3}', 'name': 'multiply'}, 'type': 'function'}], 'refusal': None}, response_metadata={'token_usage': {'completion_tokens': 17, 'prompt_tokens': 56, 'total_tokens': 73, 'completion_tokens_details': {'accepted_prediction_tokens': 0, 'audio_tokens': 0, 'reasoning_tokens': 0, 'rejected_prediction_tokens': 0}, 'prompt_tokens_details': {'audio_tokens': 0, 'cached_tokens': 0}}, 'model_name': 'gpt-4o-mini-2024-07-18', 'system_fingerprint': 'fp_62a23a81ef', 'id': 'chatcmpl-C6Kkjx4mgGPpM3V8akHJEw4azA8wW', 'service_tier': 'default', 'finish_reason': 'tool_calls', 'logprobs': None}, id='run--f2ad20fc-de11-409c-97f8-597d9cef0832-0', tool_calls=[{'name': 'multiply', 'args': {'a': 2, 'b': 3}, 'id': 'call_cbOPlnlKNOx2g8WVio2e9mgk', 'type': 'tool_call'}], usage_metadata={'input_tokens': 56, 'output_tokens': 17, 'total_tokens': 73, 'input_token_details': {'audio': 0, 'cache_read': 0}, 'output_token_details': {'audio': 0, 'reasoning': 0}})]}"
      ]
     },
     "execution_count": 23,
     "metadata": {},
     "output_type": "execute_result"
    }
   ],
   "source": [
    "multiply_result"
   ]
  },
  {
   "cell_type": "code",
   "execution_count": 24,
   "id": "e8d4ceac",
   "metadata": {},
   "outputs": [
    {
     "name": "stdout",
     "output_type": "stream",
     "text": [
      "================================\u001b[1m Human Message \u001b[0m=================================\n",
      "\n",
      "What is 2 * 3?\n",
      "==================================\u001b[1m Ai Message \u001b[0m==================================\n",
      "Tool Calls:\n",
      "  multiply (call_cbOPlnlKNOx2g8WVio2e9mgk)\n",
      " Call ID: call_cbOPlnlKNOx2g8WVio2e9mgk\n",
      "  Args:\n",
      "    a: 2\n",
      "    b: 3\n"
     ]
    }
   ],
   "source": [
    "for msg in multiply_result[\"messages\"]:\n",
    "    msg.pretty_print()"
   ]
  }
 ],
 "metadata": {
  "kernelspec": {
   "display_name": ".venv",
   "language": "python",
   "name": "python3"
  },
  "language_info": {
   "codemirror_mode": {
    "name": "ipython",
    "version": 3
   },
   "file_extension": ".py",
   "mimetype": "text/x-python",
   "name": "python",
   "nbconvert_exporter": "python",
   "pygments_lexer": "ipython3",
   "version": "3.13.3"
  }
 },
 "nbformat": 4,
 "nbformat_minor": 5
}
